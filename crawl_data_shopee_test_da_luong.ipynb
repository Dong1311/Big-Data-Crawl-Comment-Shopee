{
 "cells": [
  {
   "cell_type": "code",
   "execution_count": 7,
   "id": "KoKtiUpjzu1G",
   "metadata": {
    "colab": {
     "base_uri": "https://localhost:8080/"
    },
    "id": "KoKtiUpjzu1G",
    "outputId": "b7101c51-cde2-4259-eb13-8c94bc448d1b"
   },
   "outputs": [],
   "source": [
    "# from google.colab import drive\n",
    "# drive.mount('/content/drive')\n",
    "import requests\n",
    "import pandas as pd\n",
    "import time\n",
    "import random\n",
    "from tqdm import tqdm\n",
    "import os"
   ]
  },
  {
   "cell_type": "code",
   "execution_count": 8,
   "id": "jTSKQf-V0QCd",
   "metadata": {
    "colab": {
     "base_uri": "https://localhost:8080/"
    },
    "id": "jTSKQf-V0QCd",
    "outputId": "5a42d5d5-d9d9-4c0f-8c6d-6f41d4bd0285"
   },
   "outputs": [],
   "source": [
    "# %cd /content/drive/MyDrive/DBM/crawl_data/Shopee\n",
    "import os\n",
    "\n",
    "os.chdir('./') \n"
   ]
  },
  {
   "cell_type": "code",
   "execution_count": null,
   "id": "TRYTp9XR0kEg",
   "metadata": {
    "colab": {
     "base_uri": "https://localhost:8080/"
    },
    "id": "TRYTp9XR0kEg",
    "outputId": "2c98315d-bfe0-47c9-9a58-1a70d8e0ce53"
   },
   "outputs": [],
   "source": [
    "!ls"
   ]
  },
  {
   "cell_type": "code",
   "execution_count": null,
   "id": "hIBHEvFED6Kx",
   "metadata": {
    "colab": {
     "base_uri": "https://localhost:8080/",
     "height": 90
    },
    "id": "hIBHEvFED6Kx",
    "outputId": "35a9b6ff-6564-469b-bf05-38e9b43e7564"
   },
   "outputs": [],
   "source": [
    "# from google.colab import files\n",
    "# files.upload()\n",
    "import pandas as pd\n",
    "\n",
    "# Đọc file CSV từ thư mục hiện tại\n",
    "df_id = pd.read_csv('./shopee_product_id.csv')  # ./ chỉ thư mục hiện tại\n",
    "\n",
    "# Kiểm tra dữ liệu đã đọc được\n",
    "print(df_id.head())\n"
   ]
  },
  {
   "cell_type": "markdown",
   "id": "q9OHlCO7JkiS",
   "metadata": {
    "id": "q9OHlCO7JkiS"
   },
   "source": []
  },
  {
   "cell_type": "code",
   "execution_count": 11,
   "id": "4iL8YvhkihV4",
   "metadata": {
    "id": "4iL8YvhkihV4"
   },
   "outputs": [],
   "source": [
    "import requests\n",
    "import pandas as pd\n",
    "import time\n",
    "import random\n",
    "from tqdm import tqdm\n",
    "\n",
    "cookies = {\n",
    "    'SPC_F':'6g4tsyNnAOVZrdkEothirX2vqOAKYKvG',\n",
    "    'REC_T_ID':'1b90a284-60d7-11ee-9fac-347379167e6a',\n",
    "    '_fbp':'fb.1.1696218749922.845714687',\n",
    "    '_hjSessionUser_868286':'eyJpZCI6IjM4MDc4Mzk3LTkyYjktNWI5OC04ZTU5LTA5MTkwNDIzMjA2OCIsImNyZWF0ZWQiOjE2OTYyMTg3NTE3ODQsImV4aXN0aW5nIjp0cnVlfQ==',\n",
    "    'SPC_CLIENTID':'Nmc0dHN5Tm5BT1Zakkvipnlfiezqpjbc',\n",
    "    '_fbc':'fb.1.1696492052115.IwAR3s_t5R4-Eo_PkMsWA23tmIQDeOW5bBwvuO_HOdubaAe8_SnfMHKpCGk5I',\n",
    "    'SPC_U':'-',\n",
    "    'SPC_EC':'-',\n",
    "    'SPC_R_T_ID':'aMpQVEaogeEgzC2REyIqgNf7HtAfXTZnpg/Na8ETLYtdN+zfyJVZmwkscsgLiaLubPk4wOZz2hiD/7WnGGPITLiSYjJQa7mrT1bjyaiL7dug9IU8hMEZeGmzlji2TQAnAABmEplJXni1v0TTuEElpSAcsxbTVdqiPg0HRgG1tzg=',\n",
    "    'SPC_R_T_IV':'cDhScmF4ZHdmUTJEV3Nreg==',\n",
    "    'SPC_T_ID':'aMpQVEaogeEgzC2REyIqgNf7HtAfXTZnpg/Na8ETLYtdN+zfyJVZmwkscsgLiaLubPk4wOZz2hiD/7WnGGPITLiSYjJQa7mrT1bjyaiL7dug9IU8hMEZeGmzlji2TQAnAABmEplJXni1v0TTuEElpSAcsxbTVdqiPg0HRgG1tzg=',\n",
    "    'SPC_T_IV':'cDhScmF4ZHdmUTJEV3Nreg==',\n",
    "    '_ga_M32T05RVZT':'GS1.1.1702584482.8.0.1702584482.60.0.0',\n",
    "    '_gcl_au':'1.1.132621638.1704285163',\n",
    "    'SPC_SEC_SI':'v1-Q0doV2lrOFBvRXR0c0tWUzqSIPnPlp6/s6X1lEQ6DmKult9Xnpyqiml+aAZ4WFrGQffJjLIlh/Q4Pfhzck2AF+XKvuVVoMsC17uQmkH/ukE=',\n",
    "    'SPC_SI':'QQKdZQAAAAA4U21UOWc2cUgzIwAAAAAAUVg4ZjE0Y28=',\n",
    "    '__LOCALE__null':'VN',\n",
    "    'csrftoken':'HjkIff4F9AQvoVi8PQtF5REcH6U2DCWX',\n",
    "    '_sapid':'4ca77247a7f4e72281a35b07b63eded22d2b34d5ddb91a83eab792c7',\n",
    "    '_ga_4GPP1ZXG63':'GS1.1.1704943368.5.0.1704943368.0.0.0',\n",
    "    '_QPWSDCXHZQA':'785dab59-3459-49bd-e656-dff710e22f59',\n",
    "    'REC7iLP4Q':'81046d04-828d-428f-b5bf-41fd10567732',\n",
    "    'shopee_webUnique_ccd':'8qu2xejEBqwAS28CkMddQA%3D%3D%7C6jucaHmWIlDbdL77vaMDskUuw4sN2oC6efijlAdrZZISf3l0wmtt5zPIFmFbyEIKP%2BfCr%2BojiZWQPQ%3D%3D%7CEbX67z8zoaWMskfm%7C08%7C3',\n",
    "    'ds':'11970091b5c5d10f73297635039af2e2',\n",
    "    'AMP_TOKEN':'%24NOT_FOUND',\n",
    "    '_ga':'GA1.2.1754520024.1696218751',\n",
    "    '_gid':'GA1.2.1338439444.1704943371',\n",
    "    '_dc_gtm_UA-61914164-50':'1'\n",
    "\n",
    "}\n",
    "\n",
    "headers = {\n",
    "    'User-Agent': 'Mozilla/5.0 (Windows NT 10.0; Win64; x64) AppleWebKit/537.36 (KHTML, like Gecko) Chrome/120.0.0.0 Safari/537.36 Edg/120.0.0.0',\n",
    "    'Accept': 'application/json',\n",
    "    'Accept-Language': 'vi-VN,vi;q=0.8,en-US;q=0.5,en;q=0.3',\n",
    "    'Accept-Encoding': 'gzip, deflate, br',\n",
    "    'Referer': 'https://shopee.vn/G%C4%83ng-Tay-%C4%91i-ph%C6%B0%E1%BB%A3t-511-Ng%C3%B3n-C%E1%BB%A5t-(Lo%E1%BA%A1i-X%E1%BB%8Bn)-T%E1%BA%ADp-Gym-L%C3%A1i-xe-%C4%90i-ph%C6%B0%E1%BB%A3t-i.163364638.9746994645?sp_atk=2fd4383f-0ce1-4acd-9f96-0c57fad2eb3c&xptdk=2fd4383f-0ce1-4acd-9f96-0c57fad2eb3c',\n",
    "    'X-Csrftoken': 'HjkIff4F9AQvoVi8PQtF5REcH6U2DCWX',\n",
    "    'Connection': 'keep-alive',\n",
    "    'TE': 'Trailers',\n",
    "}\n",
    "\n",
    "params = {\n",
    "    'exclude_filter': '1',\n",
    "    'filter': '0',\n",
    "   ' filter_size': '0',\n",
    "    'flag': '1',\n",
    "    'fold_filter': '0',\n",
    "    'itemid': '9746994645',\n",
    "    'limit': '50',\n",
    "    'offset': '0',\n",
    "    'relevant_reviews': 'false',\n",
    "    'request_source': '2',\n",
    "    'shopid': '163364638',\n",
    "    'tag_filter': '',\n",
    "    'type': '0',\n",
    "    'variation_filters': ''\n",
    "\n",
    "}\n",
    "\n",
    "def comment_parser(file_json, star):\n",
    "    d = dict()\n",
    "    d['itemid'] = file_json.get('ratings')[star].get('itemid')\n",
    "    d['name'] = file_json.get('ratings')[star].get('product_items')[0].get('name')\n",
    "    d['shopid']  = file_json.get('ratings')[star].get('shopid')\n",
    "    d['userid'] = file_json.get('ratings')[star].get('userid')\n",
    "    d['rating_star'] = file_json.get('ratings')[star].get('rating_star')\n",
    "    d['comment'] = file_json.get('ratings')[star].get('comment')\n",
    "\n",
    "    return d\n",
    "\n"
   ]
  },
  {
   "cell_type": "code",
   "execution_count": null,
   "id": "sjcSBO5hnaie",
   "metadata": {
    "colab": {
     "base_uri": "https://localhost:8080/"
    },
    "id": "sjcSBO5hnaie",
    "outputId": "158765c4-a493-46b9-f202-1e30d6269da6"
   },
   "outputs": [],
   "source": [
    "import requests\n",
    "import pandas as pd\n",
    "import time\n",
    "from tqdm import tqdm\n",
    "import re\n",
    "from concurrent.futures import ThreadPoolExecutor\n",
    "\n",
    "# Cấu hình API và cài đặt\n",
    "BASE_URL = 'https://shopee.vn/api/v2/item/get_ratings'\n",
    "params = {\n",
    "    'exclude_filter': '1',\n",
    "    'filter': '0',\n",
    "    'filter_size': '0',\n",
    "    'flag': '1',\n",
    "    'fold_filter': '0',\n",
    "    'limit': '50',  # Giới hạn số lượng đánh giá trả về mỗi lần gọi\n",
    "    'offset': '0', # Offset cho trang hiện tại\n",
    "    'relevant_reviews': 'false',\n",
    "    'request_source': '2',\n",
    "    'tag_filter': '',\n",
    "    'type': '0',\n",
    "    'variation_filters': ''\n",
    "}\n",
    "\n",
    "# Hàm lấy dữ liệu đánh giá\n",
    "def make_request(item_id, shop_id, offset=0):\n",
    "    # print(item_id)\n",
    "    # print(shop_id)\n",
    "    params['itemid'] = item_id\n",
    "    params['shopid'] = shop_id\n",
    "    params['offset'] = offset\n",
    "    response = requests.get(BASE_URL, headers=headers, params=params, cookies=cookies)\n",
    "    print(response.status_code)\n",
    "    response.raise_for_status()\n",
    "    return response\n",
    "\n",
    "def extract_ids_from_url(url):\n",
    "    match = re.search(r'i\\.(\\d+)\\.(\\d+)', url)\n",
    "    if match:\n",
    "        shopid = match.group(1)\n",
    "        itemid = match.group(2)\n",
    "        return itemid, shopid\n",
    "    return None, None\n",
    "\n",
    "# Đọc file shopee_product_id.csv và lấy tất cả các link\n",
    "df_id = pd.read_csv('shopee_product_id.csv', header=None) \n",
    "product_urls = df_id[0].tolist()  \n",
    "\n",
    "# Hàm crawl dữ liệu đánh giá cho một sản phẩm\n",
    "def crawl_comments(item_id, shop_id, max_reviews=10000):\n",
    "    all_comments = []\n",
    "    offset = 0\n",
    "    while len(all_comments) < max_reviews:\n",
    "        response = make_request(item_id, shop_id, offset)\n",
    "        if not response:\n",
    "            break\n",
    "        json_data = response.json().get('data')\n",
    "        print(json_data)\n",
    "        ratings = json_data.get('ratings', [])\n",
    "        if not ratings:  # Không còn đánh giá\n",
    "            break\n",
    "        for rating in ratings:\n",
    "            comment = rating.get('comment', '').replace('\\n', ' ').replace('\\r', ' ')\n",
    "            all_comments.append({\n",
    "                # 'itemid': rating.get('itemid'),\n",
    "                # 'shopid': rating.get('shopid'),\n",
    "                # 'userid': rating.get('userid'),\n",
    "                'rating_star': rating.get('rating_star'),\n",
    "                'comment': comment,\n",
    "                'name': rating.get('product_items')[0].get('name') if rating.get('product_items') else ''\n",
    "            })\n",
    "        # Lưu sau mỗi 50 reviews\n",
    "        if len(all_comments) % 50 == 0:\n",
    "            df_comment = pd.DataFrame(all_comments)\n",
    "            df_comment.to_csv('shopee_comments_data.csv', mode='w', header=not os.path.exists('shopee_comments_data.csv'), index=False)\n",
    "        offset += 50\n",
    "        time.sleep(1)\n",
    "    return all_comments\n",
    "\n",
    "def process_product(url):\n",
    "    item_id, shop_id = extract_ids_from_url(url)\n",
    "    if item_id and shop_id:\n",
    "        print(f'Crawling comments for product {item_id} in shop {shop_id}')\n",
    "        comments = crawl_comments(item_id, shop_id)\n",
    "        return comments\n",
    "    return []\n",
    "\n",
    "# Sử dụng ThreadPoolExecutor để crawl song song\n",
    "def crawl_in_parallel(product_urls, max_workers=10):\n",
    "    result = []\n",
    "    with ThreadPoolExecutor(max_workers=max_workers) as executor:\n",
    "        # Dùng executor.map để xử lý song song\n",
    "        results = list(tqdm(executor.map(process_product, product_urls), total=len(product_urls), desc=\"Crawling comments\"))\n",
    "        # Gộp tất cả các kết quả từ các luồng lại\n",
    "        for res in results:\n",
    "            result.extend(res)\n",
    "    return result\n",
    "\n",
    "# Tiến hành crawl\n",
    "result = crawl_in_parallel(product_urls, max_workers=2)\n",
    "\n",
    "# Lưu kết quả vào file\n",
    "df_result = pd.DataFrame(result)\n",
    "df_result.to_csv('shopee_comments_data_final.csv', index=False)\n",
    "\n",
    "print(\"Data saved to shopee_comments_data_final.csv\")\n"
   ]
  },
  {
   "cell_type": "code",
   "execution_count": null,
   "id": "JPqwLLaOZf9d",
   "metadata": {
    "id": "JPqwLLaOZf9d"
   },
   "outputs": [],
   "source": []
  }
 ],
 "metadata": {
  "colab": {
   "provenance": []
  },
  "kernelspec": {
   "display_name": "Python 3",
   "language": "python",
   "name": "python3"
  },
  "language_info": {
   "codemirror_mode": {
    "name": "ipython",
    "version": 3
   },
   "file_extension": ".py",
   "mimetype": "text/x-python",
   "name": "python",
   "nbconvert_exporter": "python",
   "pygments_lexer": "ipython3",
   "version": "3.11.5"
  }
 },
 "nbformat": 4,
 "nbformat_minor": 5
}
